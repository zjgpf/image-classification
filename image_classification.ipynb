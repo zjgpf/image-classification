{
 "cells": [
  {
   "cell_type": "markdown",
   "metadata": {
    "collapsed": true
   },
   "source": [
    "# Image Classification\n",
    "In this project, you'll classify images from the [CIFAR-10 dataset](https://www.cs.toronto.edu/~kriz/cifar.html).  The dataset consists of airplanes, dogs, cats, and other objects. You'll preprocess the images, then train a convolutional neural network on all the samples. The images need to be normalized and the labels need to be one-hot encoded.  You'll get to apply what you learned and build a convolutional, max pooling, dropout, and fully connected layers.  At the end, you'll get to see your neural network's predictions on the sample images.\n",
    "## Get the Data\n",
    "Run the following cell to download the [CIFAR-10 dataset for python](https://www.cs.toronto.edu/~kriz/cifar-10-python.tar.gz)."
   ]
  },
  {
   "cell_type": "code",
   "execution_count": 1,
   "metadata": {},
   "outputs": [
    {
     "name": "stdout",
     "output_type": "stream",
     "text": [
      "All files found!\n"
     ]
    }
   ],
   "source": [
    "\"\"\"\n",
    "DON'T MODIFY ANYTHING IN THIS CELL THAT IS BELOW THIS LINE\n",
    "\"\"\"\n",
    "from urllib.request import urlretrieve\n",
    "from os.path import isfile, isdir\n",
    "from tqdm import tqdm\n",
    "import problem_unittests as tests\n",
    "import tarfile\n",
    "\n",
    "cifar10_dataset_folder_path = 'cifar-10-batches-py'\n",
    "\n",
    "class DLProgress(tqdm):\n",
    "    last_block = 0\n",
    "\n",
    "    def hook(self, block_num=1, block_size=1, total_size=None):\n",
    "        self.total = total_size\n",
    "        self.update((block_num - self.last_block) * block_size)\n",
    "        self.last_block = block_num\n",
    "\n",
    "if not isfile('cifar-10-python.tar.gz'):\n",
    "    with DLProgress(unit='B', unit_scale=True, miniters=1, desc='CIFAR-10 Dataset') as pbar:\n",
    "        urlretrieve(\n",
    "            'https://www.cs.toronto.edu/~kriz/cifar-10-python.tar.gz',\n",
    "            'cifar-10-python.tar.gz',\n",
    "            pbar.hook)\n",
    "\n",
    "if not isdir(cifar10_dataset_folder_path):\n",
    "    with tarfile.open('cifar-10-python.tar.gz') as tar:\n",
    "        tar.extractall()\n",
    "        tar.close()\n",
    "\n",
    "\n",
    "tests.test_folder_path(cifar10_dataset_folder_path)"
   ]
  },
  {
   "cell_type": "markdown",
   "metadata": {},
   "source": [
    "## Explore the Data\n",
    "The dataset is broken into batches to prevent your machine from running out of memory.  The CIFAR-10 dataset consists of 5 batches, named `data_batch_1`, `data_batch_2`, etc.. Each batch contains the labels and images that are one of the following:\n",
    "* airplane\n",
    "* automobile\n",
    "* bird\n",
    "* cat\n",
    "* deer\n",
    "* dog\n",
    "* frog\n",
    "* horse\n",
    "* ship\n",
    "* truck\n",
    "\n",
    "Understanding a dataset is part of making predictions on the data.  Play around with the code cell below by changing the `batch_id` and `sample_id`. The `batch_id` is the id for a batch (1-5). The `sample_id` is the id for a image and label pair in the batch.\n",
    "\n",
    "Ask yourself \"What are all possible labels?\", \"What is the range of values for the image data?\", \"Are the labels in order or random?\".  Answers to questions like these will help you preprocess the data and end up with better predictions."
   ]
  },
  {
   "cell_type": "code",
   "execution_count": 2,
   "metadata": {},
   "outputs": [
    {
     "name": "stdout",
     "output_type": "stream",
     "text": [
      "\n",
      "Stats of batch 1:\n",
      "Samples: 10000\n",
      "Label Counts: {0: 1005, 1: 974, 2: 1032, 3: 1016, 4: 999, 5: 937, 6: 1030, 7: 1001, 8: 1025, 9: 981}\n",
      "First 20 Labels: [6, 9, 9, 4, 1, 1, 2, 7, 8, 3, 4, 7, 7, 2, 9, 9, 9, 3, 2, 6]\n",
      "\n",
      "Example of Image 5:\n",
      "Image - Min Value: 0 Max Value: 252\n",
      "Image - Shape: (32, 32, 3)\n",
      "Label - Label Id: 1 Name: automobile\n"
     ]
    },
    {
     "data": {
      "image/png": "[encoded data removed]",
      "text/plain": [
       "<matplotlib.figure.Figure at 0x17ad18d9da0>"
      ]
     },
     "metadata": {
      "image/png": {
       "height": 250,
       "width": 253
      }
     },
     "output_type": "display_data"
    }
   ],
   "source": [
    "%matplotlib inline\n",
    "%config InlineBackend.figure_format = 'retina'\n",
    "\n",
    "import helper\n",
    "import numpy as np\n",
    "\n",
    "# Explore the dataset\n",
    "batch_id = 1\n",
    "sample_id = 5\n",
    "helper.display_stats(cifar10_dataset_folder_path, batch_id, sample_id)"
   ]
  },
  {
   "cell_type": "markdown",
   "metadata": {},
   "source": [
    "## Implement Preprocess Functions\n",
    "### Normalize\n",
    "In the cell below, implement the `normalize` function to take in image data, `x`, and return it as a normalized Numpy array. The values should be in the range of 0 to 1, inclusive.  The return object should be the same shape as `x`."
   ]
  },
  {
   "cell_type": "code",
   "execution_count": 3,
   "metadata": {},
   "outputs": [
    {
     "name": "stdout",
     "output_type": "stream",
     "text": [
      "Tests Passed\n"
     ]
    }
   ],
   "source": [
    "def normalize(x):\n",
    "    \"\"\"\n",
    "    Normalize a list of sample image data in the range of 0 to 1\n",
    "    : x: List of image data.  The image shape is (32, 32, 3)\n",
    "    : return: Numpy array of normalize data\n",
    "    \"\"\"\n",
    "    # TODO: Implement Function\n",
    "    min = 0\n",
    "    max = 255\n",
    "    return (x-min)/(max-min)\n",
    "\n",
    "\n",
    "\"\"\"\n",
    "DON'T MODIFY ANYTHING IN THIS CELL THAT IS BELOW THIS LINE\n",
    "\"\"\"\n",
    "tests.test_normalize(normalize)"
   ]
  },
  {
   "cell_type": "markdown",
   "metadata": {},
   "source": [
    "### One-hot encode\n",
    "Just like the previous code cell, you'll be implementing a function for preprocessing.  This time, you'll implement the `one_hot_encode` function. The input, `x`, are a list of labels.  Implement the function to return the list of labels as One-Hot encoded Numpy array.  The possible values for labels are 0 to 9. The one-hot encoding function should return the same encoding for each value between each call to `one_hot_encode`.  Make sure to save the map of encodings outside the function.\n",
    "\n",
    "**Hint:**\n",
    "\n",
    "Look into LabelBinarizer in the preprocessing module of sklearn."
   ]
  },
  {
   "cell_type": "code",
   "execution_count": 4,
   "metadata": {},
   "outputs": [
    {
     "name": "stdout",
     "output_type": "stream",
     "text": [
      "Tests Passed\n"
     ]
    }
   ],
   "source": [
    "def one_hot_encode(x):\n",
    "    \"\"\"\n",
    "    One hot encode a list of sample labels. Return a one-hot encoded vector for each label.\n",
    "    : x: List of sample Labels\n",
    "    : return: Numpy array of one-hot encoded labels\n",
    "    \"\"\"\n",
    "    # TODO: Implement Function\n",
    "    num_labels = len(x)\n",
    "    y = np.zeros((num_labels,10))\n",
    "\n",
    "    for i in range(num_labels):\n",
    "        y[i,x[i]] = 1\n",
    "\n",
    "    return y\n",
    "\n",
    "\n",
    "\"\"\"\n",
    "DON'T MODIFY ANYTHING IN THIS CELL THAT IS BELOW THIS LINE\n",
    "\"\"\"\n",
    "tests.test_one_hot_encode(one_hot_encode)"
   ]
  },
  {
   "cell_type": "markdown",
   "metadata": {},
   "source": [
    "### Randomize Data\n",
    "As you saw from exploring the data above, the order of the samples are randomized.  It doesn't hurt to randomize it again, but you don't need to for this dataset."
   ]
  },
  {
   "cell_type": "markdown",
   "metadata": {},
   "source": [
    "## Preprocess all the data and save it\n",
    "Running the code cell below will preprocess all the CIFAR-10 data and save it to file. The code below also uses 10% of the training data for validation."
   ]
  },
  {
   "cell_type": "code",
   "execution_count": 5,
   "metadata": {
    "collapsed": true
   },
   "outputs": [],
   "source": [
    "\"\"\"\n",
    "DON'T MODIFY ANYTHING IN THIS CELL\n",
    "\"\"\"\n",
    "# Preprocess Training, Validation, and Testing Data\n",
    "helper.preprocess_and_save_data(cifar10_dataset_folder_path, normalize, one_hot_encode)"
   ]
  },
  {
   "cell_type": "markdown",
   "metadata": {},
   "source": [
    "# Check Point\n",
    "This is your first checkpoint.  If you ever decide to come back to this notebook or have to restart the notebook, you can start from here.  The preprocessed data has been saved to disk."
   ]
  },
  {
   "cell_type": "code",
   "execution_count": 6,
   "metadata": {
    "collapsed": true
   },
   "outputs": [],
   "source": [
    "\"\"\"\n",
    "DON'T MODIFY ANYTHING IN THIS CELL\n",
    "\"\"\"\n",
    "import pickle\n",
    "import problem_unittests as tests\n",
    "import helper\n",
    "\n",
    "# Load the Preprocessed Validation data\n",
    "valid_features, valid_labels = pickle.load(open('preprocess_validation.p', mode='rb'))"
   ]
  },
  {
   "cell_type": "markdown",
   "metadata": {},
   "source": [
    "## Build the network\n",
    "For the neural network, you'll build each layer into a function.  Most of the code you've seen has been outside of functions. To test your code more thoroughly, we require that you put each layer in a function.  This allows us to give you better feedback and test for simple mistakes using our unittests before you submit your project.\n",
    "\n",
    ">**Note:** If you're finding it hard to dedicate enough time for this course each week, we've provided a small shortcut to this part of the project. In the next couple of problems, you'll have the option to use classes from the [TensorFlow Layers](https://www.tensorflow.org/api_docs/python/tf/layers) or [TensorFlow Layers (contrib)](https://www.tensorflow.org/api_guides/python/contrib.layers) packages to build each layer, except the layers you build in the \"Convolutional and Max Pooling Layer\" section.  TF Layers is similar to Keras's and TFLearn's abstraction to layers, so it's easy to pickup.\n",
    "\n",
    ">However, if you would like to get the most out of this course, try to solve all the problems _without_ using anything from the TF Layers packages. You **can** still use classes from other packages that happen to have the same name as ones you find in TF Layers! For example, instead of using the TF Layers version of the `conv2d` class, [tf.layers.conv2d](https://www.tensorflow.org/api_docs/python/tf/layers/conv2d), you would want to use the TF Neural Network version of `conv2d`, [tf.nn.conv2d](https://www.tensorflow.org/api_docs/python/tf/nn/conv2d). \n",
    "\n",
    "Let's begin!\n",
    "\n",
    "### Input\n",
    "The neural network needs to read the image data, one-hot encoded labels, and dropout keep probability. Implement the following functions\n",
    "* Implement `neural_net_image_input`\n",
    " * Return a [TF Placeholder](https://www.tensorflow.org/api_docs/python/tf/placeholder)\n",
    " * Set the shape using `image_shape` with batch size set to `None`.\n",
    " * Name the TensorFlow placeholder \"x\" using the TensorFlow `name` parameter in the [TF Placeholder](https://www.tensorflow.org/api_docs/python/tf/placeholder).\n",
    "* Implement `neural_net_label_input`\n",
    " * Return a [TF Placeholder](https://www.tensorflow.org/api_docs/python/tf/placeholder)\n",
    " * Set the shape using `n_classes` with batch size set to `None`.\n",
    " * Name the TensorFlow placeholder \"y\" using the TensorFlow `name` parameter in the [TF Placeholder](https://www.tensorflow.org/api_docs/python/tf/placeholder).\n",
    "* Implement `neural_net_keep_prob_input`\n",
    " * Return a [TF Placeholder](https://www.tensorflow.org/api_docs/python/tf/placeholder) for dropout keep probability.\n",
    " * Name the TensorFlow placeholder \"keep_prob\" using the TensorFlow `name` parameter in the [TF Placeholder](https://www.tensorflow.org/api_docs/python/tf/placeholder).\n",
    "\n",
    "These names will be used at the end of the project to load your saved model.\n",
    "\n",
    "Note: `None` for shapes in TensorFlow allow for a dynamic size."
   ]
  },
  {
   "cell_type": "code",
   "execution_count": 7,
   "metadata": {},
   "outputs": [
    {
     "name": "stdout",
     "output_type": "stream",
     "text": [
      "Image Input Tests Passed.\n",
      "Label Input Tests Passed.\n",
      "Keep Prob Tests Passed.\n"
     ]
    }
   ],
   "source": [
    "import tensorflow as tf\n",
    "\n",
    "def neural_net_image_input(image_shape):\n",
    "    \"\"\"\n",
    "    Return a Tensor for a batch of image input\n",
    "    : image_shape: Shape of the images\n",
    "    : return: Tensor for image input.\n",
    "    \"\"\"\n",
    "    # TODO: Implement Function\n",
    "    input = tf.placeholder(tf.float32, shape = [None]+list(image_shape), name = 'x')\n",
    "    return input\n",
    "\n",
    "\n",
    "def neural_net_label_input(n_classes):\n",
    "    \"\"\"\n",
    "    Return a Tensor for a batch of label input\n",
    "    : n_classes: Number of classes\n",
    "    : return: Tensor for label input.\n",
    "    \"\"\"\n",
    "    # TODO: Implement Function\n",
    "    input = tf.placeholder(tf.float32, shape = [None, n_classes], name = 'y')\n",
    "    return input\n",
    "\n",
    "\n",
    "def neural_net_keep_prob_input():\n",
    "    \"\"\"\n",
    "    Return a Tensor for keep probability\n",
    "    : return: Tensor for keep probability.\n",
    "    \"\"\"\n",
    "    # TODO: Implement Function\n",
    "    input = tf.placeholder(tf.float32, name = 'keep_prob')\n",
    "    return input\n",
    "\n",
    "\n",
    "\"\"\"\n",
    "DON'T MODIFY ANYTHING IN THIS CELL THAT IS BELOW THIS LINE\n",
    "\"\"\"\n",
    "tf.reset_default_graph()\n",
    "tests.test_nn_image_inputs(neural_net_image_input)\n",
    "tests.test_nn_label_inputs(neural_net_label_input)\n",
    "tests.test_nn_keep_prob_inputs(neural_net_keep_prob_input)"
   ]
  },
  {
   "cell_type": "markdown",
   "metadata": {},
   "source": [
    "### Convolution and Max Pooling Layer\n",
    "Convolution layers have a lot of success with images. For this code cell, you should implement the function `conv2d_maxpool` to apply convolution then max pooling:\n",
    "* Create the weight and bias using `conv_ksize`, `conv_num_outputs` and the shape of `x_tensor`.\n",
    "* Apply a convolution to `x_tensor` using weight and `conv_strides`.\n",
    " * We recommend you use same padding, but you're welcome to use any padding.\n",
    "* Add bias\n",
    "* Add a nonlinear activation to the convolution.\n",
    "* Apply Max Pooling using `pool_ksize` and `pool_strides`.\n",
    " * We recommend you use same padding, but you're welcome to use any padding.\n",
    "\n",
    "**Note:** You **can't** use [TensorFlow Layers](https://www.tensorflow.org/api_docs/python/tf/layers) or [TensorFlow Layers (contrib)](https://www.tensorflow.org/api_guides/python/contrib.layers) for **this** layer, but you can still use TensorFlow's [Neural Network](https://www.tensorflow.org/api_docs/python/tf/nn) package. You may still use the shortcut option for all the **other** layers.\n",
    "\n",
    "** Hint: **\n",
    "\n",
    "When unpacking values as an argument in Python, look into the [unpacking](https://docs.python.org/3/tutorial/controlflow.html#unpacking-argument-lists) operator. "
   ]
  },
  {
   "cell_type": "code",
   "execution_count": 8,
   "metadata": {},
   "outputs": [
    {
     "name": "stdout",
     "output_type": "stream",
     "text": [
      "Tests Passed\n"
     ]
    }
   ],
   "source": [
    "def conv2d_maxpool(x_tensor, conv_num_outputs, conv_ksize, conv_strides, pool_ksize, pool_strides):\n",
    "    \"\"\"\n",
    "    Apply convolution then max pooling to x_tensor\n",
    "    :param x_tensor: TensorFlow Tensor\n",
    "    :param conv_num_outputs: Number of outputs for the convolutional layer\n",
    "    :param conv_ksize: kernal size 2-D Tuple for the convolutional layer\n",
    "    :param conv_strides: Stride 2-D Tuple for convolution\n",
    "    :param pool_ksize: kernal size 2-D Tuple for pool\n",
    "    :param pool_strides: Stride 2-D Tuple for pool\n",
    "    : return: A tensor that represents convolution and max pooling of x_tensor\n",
    "    \"\"\"\n",
    "    # TODO: Implement Function\n",
    "    filter_weights = tf.Variable(tf.truncated_normal([conv_ksize[0],conv_ksize[1],x_tensor.get_shape().as_list()[-1],conv_num_outputs],0,0.01))\n",
    "    strides = [1,conv_strides[0],conv_strides[1],1]\n",
    "    padding = 'SAME'\n",
    "    conv_layer = tf.nn.conv2d(x_tensor, filter_weights, strides, padding)\n",
    "    filter_bias = tf.Variable(tf.zeros(conv_num_outputs))\n",
    "    conv_layer = tf.nn.bias_add(conv_layer, filter_bias)\n",
    "    conv_layer = tf.nn.relu(conv_layer)\n",
    "    \n",
    "    conv_layer = tf.nn.max_pool(\n",
    "        conv_layer,\n",
    "        ksize = [1, pool_ksize[0], pool_ksize[1], 1],\n",
    "        strides = [1, pool_strides[0], pool_strides[1], 1],\n",
    "        padding = padding\n",
    "    )\n",
    "    return conv_layer\n",
    "\"\"\"\n",
    "DON'T MODIFY ANYTHING IN THIS CELL THAT IS BELOW THIS LINE\n",
    "\"\"\"\n",
    "tests.test_con_pool(conv2d_maxpool)\n"
   ]
  },
  {
   "cell_type": "markdown",
   "metadata": {},
   "source": [
    "### Flatten Layer\n",
    "Implement the `flatten` function to change the dimension of `x_tensor` from a 4-D tensor to a 2-D tensor.  The output should be the shape (*Batch Size*, *Flattened Image Size*). Shortcut option: you can use classes from the [TensorFlow Layers](https://www.tensorflow.org/api_docs/python/tf/layers) or [TensorFlow Layers (contrib)](https://www.tensorflow.org/api_guides/python/contrib.layers) packages for this layer. For more of a challenge, only use other TensorFlow packages."
   ]
  },
  {
   "cell_type": "code",
   "execution_count": 9,
   "metadata": {},
   "outputs": [
    {
     "name": "stdout",
     "output_type": "stream",
     "text": [
      "Tests Passed\n"
     ]
    }
   ],
   "source": [
    "def flatten(x_tensor):\n",
    "    \"\"\"\n",
    "    Flatten x_tensor to (Batch Size, Flattened Image Size)\n",
    "    : x_tensor: A tensor of size (Batch Size, ...), where ... are the image dimensions.\n",
    "    : return: A tensor of size (Batch Size, Flattened Image Size).\n",
    "    \"\"\"\n",
    "    # TODO: Implement Function\n",
    "    ret = tf.contrib.layers.flatten(x_tensor)\n",
    "    return ret\n",
    "\n",
    "\n",
    "\"\"\"\n",
    "DON'T MODIFY ANYTHING IN THIS CELL THAT IS BELOW THIS LINE\n",
    "\"\"\"\n",
    "tests.test_flatten(flatten)"
   ]
  },
  {
   "cell_type": "markdown",
   "metadata": {},
   "source": [
    "### Fully-Connected Layer\n",
    "Implement the `fully_conn` function to apply a fully connected layer to `x_tensor` with the shape (*Batch Size*, *num_outputs*). Shortcut option: you can use classes from the [TensorFlow Layers](https://www.tensorflow.org/api_docs/python/tf/layers) or [TensorFlow Layers (contrib)](https://www.tensorflow.org/api_guides/python/contrib.layers) packages for this layer. For more of a challenge, only use other TensorFlow packages."
   ]
  },
  {
   "cell_type": "code",
   "execution_count": 10,
   "metadata": {},
   "outputs": [
    {
     "name": "stdout",
     "output_type": "stream",
     "text": [
      "Tests Passed\n"
     ]
    }
   ],
   "source": [
    "def fully_conn(x_tensor, num_outputs):\n",
    "    \"\"\"\n",
    "    Apply a fully connected layer to x_tensor using weight and bias\n",
    "    : x_tensor: A 2-D tensor where the first dimension is batch size.\n",
    "    : num_outputs: The number of output that the new tensor should be.\n",
    "    : return: A 2-D tensor where the second dimension is num_outputs.\n",
    "    \"\"\"\n",
    "    # TODO: Implement Function\n",
    "    weights = tf.Variable(tf.truncated_normal([x_tensor.get_shape().as_list()[-1],num_outputs],0,0.01))\n",
    "    bias = tf.Variable(tf.zeros(num_outputs))\n",
    "    return tf.nn.relu(tf.add(tf.matmul(x_tensor,weights), bias))\n",
    "\n",
    "\n",
    "\"\"\"\n",
    "DON'T MODIFY ANYTHING IN THIS CELL THAT IS BELOW THIS LINE\n",
    "\"\"\"\n",
    "tests.test_fully_conn(fully_conn)"
   ]
  },
  {
   "cell_type": "markdown",
   "metadata": {},
   "source": [
    "### Output Layer\n",
    "Implement the `output` function to apply a fully connected layer to `x_tensor` with the shape (*Batch Size*, *num_outputs*). Shortcut option: you can use classes from the [TensorFlow Layers](https://www.tensorflow.org/api_docs/python/tf/layers) or [TensorFlow Layers (contrib)](https://www.tensorflow.org/api_guides/python/contrib.layers) packages for this layer. For more of a challenge, only use other TensorFlow packages.\n",
    "\n",
    "**Note:** Activation, softmax, or cross entropy should **not** be applied to this."
   ]
  },
  {
   "cell_type": "code",
   "execution_count": 11,
   "metadata": {},
   "outputs": [
    {
     "name": "stdout",
     "output_type": "stream",
     "text": [
      "Tests Passed\n"
     ]
    }
   ],
   "source": [
    "def output(x_tensor, num_outputs):\n",
    "    \"\"\"\n",
    "    Apply a output layer to x_tensor using weight and bias\n",
    "    : x_tensor: A 2-D tensor where the first dimension is batch size.\n",
    "    : num_outputs: The number of output that the new tensor should be.\n",
    "    : return: A 2-D tensor where the second dimension is num_outputs.\n",
    "    \"\"\"\n",
    "    # TODO: Implement Function\n",
    "    weights = tf.Variable(tf.truncated_normal([x_tensor.get_shape().as_list()[-1],num_outputs],0,0.01))\n",
    "    bias = tf.Variable(tf.zeros(num_outputs))\n",
    "    return tf.add(tf.matmul(x_tensor,weights), bias)\n",
    "\n",
    "\n",
    "\"\"\"\n",
    "DON'T MODIFY ANYTHING IN THIS CELL THAT IS BELOW THIS LINE\n",
    "\"\"\"\n",
    "tests.test_output(output)"
   ]
  },
  {
   "cell_type": "markdown",
   "metadata": {},
   "source": [
    "### Create Convolutional Model\n",
    "Implement the function `conv_net` to create a convolutional neural network model. The function takes in a batch of images, `x`, and outputs logits.  Use the layers you created above to create this model:\n",
    "\n",
    "* Apply 1, 2, or 3 Convolution and Max Pool layers\n",
    "* Apply a Flatten Layer\n",
    "* Apply 1, 2, or 3 Fully Connected Layers\n",
    "* Apply an Output Layer\n",
    "* Return the output\n",
    "* Apply [TensorFlow's Dropout](https://www.tensorflow.org/api_docs/python/tf/nn/dropout) to one or more layers in the model using `keep_prob`. "
   ]
  },
  {
   "cell_type": "code",
   "execution_count": 12,
   "metadata": {},
   "outputs": [
    {
     "name": "stdout",
     "output_type": "stream",
     "text": [
      "Neural Network Built!\n"
     ]
    }
   ],
   "source": [
    "def conv_net(x, keep_prob):\n",
    "    \"\"\"\n",
    "    Create a convolutional neural network model\n",
    "    : x: Placeholder tensor that holds image data.\n",
    "    : keep_prob: Placeholder tensor that hold dropout keep probability.\n",
    "    : return: Tensor that represents logits\n",
    "    \"\"\"\n",
    "    # TODO: Apply 1, 2, or 3 Convolution and Max Pool layers\n",
    "    #    Play around with different number of outputs, kernel size and stride\n",
    "    # Function Definition from Above:\n",
    "    #    conv2d_maxpool(x_tensor, conv_num_outputs, conv_ksize, conv_strides, pool_ksize, pool_strides)\n",
    "    model = conv2d_maxpool(x, conv_num_outputs=16, conv_ksize=(3,3), conv_strides=(1,1), pool_ksize=(4,4), pool_strides=(1,1))\n",
    "    \n",
    "    model = tf.nn.dropout(model, keep_prob)\n",
    "    \n",
    "    # TODO: Apply a Flatten Layer\n",
    "    # Function Definition from Above:\n",
    "    #   flatten(x_tensor)\n",
    "    model = flatten(model)\n",
    "\n",
    "    # TODO: Apply 1, 2, or 3 Fully Connected Layers\n",
    "    #    Play around with different number of outputs\n",
    "    # Function Definition from Above:\n",
    "    #   fully_conn(x_tensor, num_outputs)\n",
    "    model = fully_conn(model,256)\n",
    "    \n",
    "    model = tf.nn.dropout(model, keep_prob)\n",
    "    \n",
    "    # TODO: Apply an Output Layer\n",
    "    #    Set this to the number of classes\n",
    "    # Function Definition from Above:\n",
    "    #   output(x_tensor, num_outputs)\n",
    "    model = output(model,10)\n",
    "    \n",
    "    # TODO: return output\n",
    "    return model\n",
    "\n",
    "\n",
    "\"\"\"\n",
    "DON'T MODIFY ANYTHING IN THIS CELL THAT IS BELOW THIS LINE\n",
    "\"\"\"\n",
    "\n",
    "##############################\n",
    "## Build the Neural Network ##\n",
    "##############################\n",
    "\n",
    "# Remove previous weights, bias, inputs, etc..\n",
    "tf.reset_default_graph()\n",
    "\n",
    "# Inputs\n",
    "x = neural_net_image_input((32, 32, 3))\n",
    "y = neural_net_label_input(10)\n",
    "keep_prob = neural_net_keep_prob_input()\n",
    "\n",
    "# Model\n",
    "logits = conv_net(x, keep_prob)\n",
    "\n",
    "# Name logits Tensor, so that is can be loaded from disk after training\n",
    "logits = tf.identity(logits, name='logits')\n",
    "\n",
    "# Loss and Optimizer\n",
    "cost = tf.reduce_mean(tf.nn.softmax_cross_entropy_with_logits(logits=logits, labels=y))\n",
    "optimizer = tf.train.AdamOptimizer().minimize(cost)\n",
    "\n",
    "# Accuracy\n",
    "correct_pred = tf.equal(tf.argmax(logits, 1), tf.argmax(y, 1))\n",
    "accuracy = tf.reduce_mean(tf.cast(correct_pred, tf.float32), name='accuracy')\n",
    "\n",
    "tests.test_conv_net(conv_net)"
   ]
  },
  {
   "cell_type": "markdown",
   "metadata": {},
   "source": [
    "## Train the Neural Network\n",
    "### Single Optimization\n",
    "Implement the function `train_neural_network` to do a single optimization.  The optimization should use `optimizer` to optimize in `session` with a `feed_dict` of the following:\n",
    "* `x` for image input\n",
    "* `y` for labels\n",
    "* `keep_prob` for keep probability for dropout\n",
    "\n",
    "This function will be called for each batch, so `tf.global_variables_initializer()` has already been called.\n",
    "\n",
    "Note: Nothing needs to be returned. This function is only optimizing the neural network."
   ]
  },
  {
   "cell_type": "code",
   "execution_count": 13,
   "metadata": {},
   "outputs": [
    {
     "name": "stdout",
     "output_type": "stream",
     "text": [
      "Tests Passed\n"
     ]
    }
   ],
   "source": [
    "def train_neural_network(session, optimizer, keep_probability, feature_batch, label_batch):\n",
    "    \"\"\"\n",
    "    Optimize the session on a batch of images and labels\n",
    "    : session: Current TensorFlow session\n",
    "    : optimizer: TensorFlow optimizer function\n",
    "    : keep_probability: keep probability\n",
    "    : feature_batch: Batch of Numpy image data\n",
    "    : label_batch: Batch of Numpy label data\n",
    "    \"\"\"\n",
    "    # TODO: Implement Function\n",
    "    session.run(optimizer, feed_dict={x:feature_batch, y:label_batch, keep_prob:keep_probability})\n",
    "\n",
    "\n",
    "\"\"\"\n",
    "DON'T MODIFY ANYTHING IN THIS CELL THAT IS BELOW THIS LINE\n",
    "\"\"\"\n",
    "tests.test_train_nn(train_neural_network)"
   ]
  },
  {
   "cell_type": "markdown",
   "metadata": {},
   "source": [
    "### Show Stats\n",
    "Implement the function `print_stats` to print loss and validation accuracy.  Use the global variables `valid_features` and `valid_labels` to calculate validation accuracy.  Use a keep probability of `1.0` to calculate the loss and validation accuracy."
   ]
  },
  {
   "cell_type": "code",
   "execution_count": 14,
   "metadata": {
    "collapsed": true
   },
   "outputs": [],
   "source": [
    "def print_stats(session, feature_batch, label_batch, cost, accuracy):\n",
    "    \"\"\"\n",
    "    Print information about loss and validation accuracy\n",
    "    : session: Current TensorFlow session\n",
    "    : feature_batch: Batch of Numpy image data\n",
    "    : label_batch: Batch of Numpy label data\n",
    "    : cost: TensorFlow cost function\n",
    "    : accuracy: TensorFlow accuracy function\n",
    "    \"\"\"\n",
    "    # TODO: Implement Function\n",
    "    loss = session.run(cost, feed_dict={x:feature_batch, y:label_batch, keep_prob:1.0})\n",
    "    valid_acc = session.run(accuracy, feed_dict={\n",
    "                x: valid_features,\n",
    "                y: valid_labels,\n",
    "                keep_prob: 1.0})\n",
    "    print('Loss: {:>6.4f} Validation Accuracy: {:.4f}'.format(\n",
    "                loss,\n",
    "                valid_acc))"
   ]
  },
  {
   "cell_type": "markdown",
   "metadata": {},
   "source": [
    "### Hyperparameters\n",
    "Tune the following parameters:\n",
    "* Set `epochs` to the number of iterations until the network stops learning or start overfitting\n",
    "* Set `batch_size` to the highest number that your machine has memory for.  Most people set them to common sizes of memory:\n",
    " * 64\n",
    " * 128\n",
    " * 256\n",
    " * ...\n",
    "* Set `keep_probability` to the probability of keeping a node using dropout"
   ]
  },
  {
   "cell_type": "code",
   "execution_count": 15,
   "metadata": {
    "collapsed": true
   },
   "outputs": [],
   "source": [
    "# TODO: Tune Parameters\n",
    "epochs = 50\n",
    "batch_size = 512\n",
    "keep_probability = 0.3"
   ]
  },
  {
   "cell_type": "markdown",
   "metadata": {},
   "source": [
    "### Train on a Single CIFAR-10 Batch\n",
    "Instead of training the neural network on all the CIFAR-10 batches of data, let's use a single batch. This should save time while you iterate on the model to get a better accuracy.  Once the final validation accuracy is 50% or greater, run the model on all the data in the next section."
   ]
  },
  {
   "cell_type": "code",
   "execution_count": 16,
   "metadata": {},
   "outputs": [
    {
     "name": "stdout",
     "output_type": "stream",
     "text": [
      "Checking the Training on a Single Batch...\n",
      "Epoch  1, CIFAR-10 Batch 1:  Loss: 2.1418 Validation Accuracy: 0.2632\n",
      "Epoch  2, CIFAR-10 Batch 1:  Loss: 2.0098 Validation Accuracy: 0.3002\n",
      "Epoch  3, CIFAR-10 Batch 1:  Loss: 1.9044 Validation Accuracy: 0.3266\n",
      "Epoch  4, CIFAR-10 Batch 1:  Loss: 1.8213 Validation Accuracy: 0.3632\n",
      "Epoch  5, CIFAR-10 Batch 1:  Loss: 1.7569 Validation Accuracy: 0.3822\n",
      "Epoch  6, CIFAR-10 Batch 1:  Loss: 1.6936 Validation Accuracy: 0.4036\n",
      "Epoch  7, CIFAR-10 Batch 1:  Loss: 1.6437 Validation Accuracy: 0.4310\n",
      "Epoch  8, CIFAR-10 Batch 1:  Loss: 1.5970 Validation Accuracy: 0.4442\n",
      "Epoch  9, CIFAR-10 Batch 1:  Loss: 1.5595 Validation Accuracy: 0.4568\n",
      "Epoch 10, CIFAR-10 Batch 1:  Loss: 1.5344 Validation Accuracy: 0.4592\n",
      "Epoch 11, CIFAR-10 Batch 1:  Loss: 1.4938 Validation Accuracy: 0.4710\n",
      "Epoch 12, CIFAR-10 Batch 1:  Loss: 1.4826 Validation Accuracy: 0.4858\n",
      "Epoch 13, CIFAR-10 Batch 1:  Loss: 1.4389 Validation Accuracy: 0.4884\n",
      "Epoch 14, CIFAR-10 Batch 1:  Loss: 1.4234 Validation Accuracy: 0.4886\n",
      "Epoch 15, CIFAR-10 Batch 1:  Loss: 1.3951 Validation Accuracy: 0.4912\n",
      "Epoch 16, CIFAR-10 Batch 1:  Loss: 1.3721 Validation Accuracy: 0.4976\n",
      "Epoch 17, CIFAR-10 Batch 1:  Loss: 1.3552 Validation Accuracy: 0.4962\n",
      "Epoch 18, CIFAR-10 Batch 1:  Loss: 1.3249 Validation Accuracy: 0.5040\n",
      "Epoch 19, CIFAR-10 Batch 1:  Loss: 1.3281 Validation Accuracy: 0.5072\n",
      "Epoch 20, CIFAR-10 Batch 1:  Loss: 1.3270 Validation Accuracy: 0.4972\n",
      "Epoch 21, CIFAR-10 Batch 1:  Loss: 1.2692 Validation Accuracy: 0.5124\n",
      "Epoch 22, CIFAR-10 Batch 1:  Loss: 1.2524 Validation Accuracy: 0.5200\n",
      "Epoch 23, CIFAR-10 Batch 1:  Loss: 1.2342 Validation Accuracy: 0.5152\n",
      "Epoch 24, CIFAR-10 Batch 1:  Loss: 1.2146 Validation Accuracy: 0.5250\n",
      "Epoch 25, CIFAR-10 Batch 1:  Loss: 1.2014 Validation Accuracy: 0.5176\n",
      "Epoch 26, CIFAR-10 Batch 1:  Loss: 1.1899 Validation Accuracy: 0.5234\n",
      "Epoch 27, CIFAR-10 Batch 1:  Loss: 1.1668 Validation Accuracy: 0.5276\n",
      "Epoch 28, CIFAR-10 Batch 1:  Loss: 1.1601 Validation Accuracy: 0.5260\n",
      "Epoch 29, CIFAR-10 Batch 1:  Loss: 1.1532 Validation Accuracy: 0.5292\n",
      "Epoch 30, CIFAR-10 Batch 1:  Loss: 1.1235 Validation Accuracy: 0.5288\n",
      "Epoch 31, CIFAR-10 Batch 1:  Loss: 1.1227 Validation Accuracy: 0.5284\n",
      "Epoch 32, CIFAR-10 Batch 1:  Loss: 1.0847 Validation Accuracy: 0.5328\n",
      "Epoch 33, CIFAR-10 Batch 1:  Loss: 1.0975 Validation Accuracy: 0.5426\n",
      "Epoch 34, CIFAR-10 Batch 1:  Loss: 1.0628 Validation Accuracy: 0.5438\n",
      "Epoch 35, CIFAR-10 Batch 1:  Loss: 1.0535 Validation Accuracy: 0.5474\n",
      "Epoch 36, CIFAR-10 Batch 1:  Loss: 1.0348 Validation Accuracy: 0.5436\n",
      "Epoch 37, CIFAR-10 Batch 1:  Loss: 1.0403 Validation Accuracy: 0.5430\n",
      "Epoch 38, CIFAR-10 Batch 1:  Loss: 1.0189 Validation Accuracy: 0.5470\n",
      "Epoch 39, CIFAR-10 Batch 1:  Loss: 1.0155 Validation Accuracy: 0.5440\n",
      "Epoch 40, CIFAR-10 Batch 1:  Loss: 0.9772 Validation Accuracy: 0.5558\n",
      "Epoch 41, CIFAR-10 Batch 1:  Loss: 0.9777 Validation Accuracy: 0.5480\n",
      "Epoch 42, CIFAR-10 Batch 1:  Loss: 0.9639 Validation Accuracy: 0.5470\n",
      "Epoch 43, CIFAR-10 Batch 1:  Loss: 0.9429 Validation Accuracy: 0.5562\n",
      "Epoch 44, CIFAR-10 Batch 1:  Loss: 0.9528 Validation Accuracy: 0.5438\n",
      "Epoch 45, CIFAR-10 Batch 1:  Loss: 0.9301 Validation Accuracy: 0.5506\n",
      "Epoch 46, CIFAR-10 Batch 1:  Loss: 0.9339 Validation Accuracy: 0.5542\n",
      "Epoch 47, CIFAR-10 Batch 1:  Loss: 0.9092 Validation Accuracy: 0.5580\n",
      "Epoch 48, CIFAR-10 Batch 1:  Loss: 0.8832 Validation Accuracy: 0.5582\n",
      "Epoch 49, CIFAR-10 Batch 1:  Loss: 0.8813 Validation Accuracy: 0.5536\n",
      "Epoch 50, CIFAR-10 Batch 1:  Loss: 0.8669 Validation Accuracy: 0.5648\n"
     ]
    }
   ],
   "source": [
    "\"\"\"\n",
    "DON'T MODIFY ANYTHING IN THIS CELL\n",
    "\"\"\"\n",
    "print('Checking the Training on a Single Batch...')\n",
    "with tf.Session() as sess:\n",
    "    # Initializing the variables\n",
    "    sess.run(tf.global_variables_initializer())\n",
    "    \n",
    "    # Training cycle\n",
    "    for epoch in range(epochs):\n",
    "        batch_i = 1\n",
    "        for batch_features, batch_labels in helper.load_preprocess_training_batch(batch_i, batch_size):\n",
    "            train_neural_network(sess, optimizer, keep_probability, batch_features, batch_labels)\n",
    "        print('Epoch {:>2}, CIFAR-10 Batch {}:  '.format(epoch + 1, batch_i), end='')\n",
    "        print_stats(sess, batch_features, batch_labels, cost, accuracy)"
   ]
  },
  {
   "cell_type": "markdown",
   "metadata": {},
   "source": [
    "### Fully Train the Model\n",
    "Now that you got a good accuracy with a single CIFAR-10 batch, try it with all five batches."
   ]
  },
  {
   "cell_type": "code",
   "execution_count": 17,
   "metadata": {},
   "outputs": [
    {
     "name": "stdout",
     "output_type": "stream",
     "text": [
      "Training...\n",
      "Epoch  1, CIFAR-10 Batch 1:  Loss: 2.1352 Validation Accuracy: 0.2354\n",
      "Epoch  1, CIFAR-10 Batch 2:  Loss: 1.9601 Validation Accuracy: 0.3178\n",
      "Epoch  1, CIFAR-10 Batch 3:  Loss: 1.7849 Validation Accuracy: 0.3514\n",
      "Epoch  1, CIFAR-10 Batch 4:  Loss: 1.6588 Validation Accuracy: 0.3846\n",
      "Epoch  1, CIFAR-10 Batch 5:  Loss: 1.7172 Validation Accuracy: 0.3942\n",
      "Epoch  2, CIFAR-10 Batch 1:  Loss: 1.7126 Validation Accuracy: 0.4104\n",
      "Epoch  2, CIFAR-10 Batch 2:  Loss: 1.6009 Validation Accuracy: 0.4192\n",
      "Epoch  2, CIFAR-10 Batch 3:  Loss: 1.4478 Validation Accuracy: 0.4410\n",
      "Epoch  2, CIFAR-10 Batch 4:  Loss: 1.4346 Validation Accuracy: 0.4544\n",
      "Epoch  2, CIFAR-10 Batch 5:  Loss: 1.5477 Validation Accuracy: 0.4542\n",
      "Epoch  3, CIFAR-10 Batch 1:  Loss: 1.5487 Validation Accuracy: 0.4668\n",
      "Epoch  3, CIFAR-10 Batch 2:  Loss: 1.4410 Validation Accuracy: 0.4868\n",
      "Epoch  3, CIFAR-10 Batch 3:  Loss: 1.3393 Validation Accuracy: 0.4802\n",
      "Epoch  3, CIFAR-10 Batch 4:  Loss: 1.3134 Validation Accuracy: 0.4904\n",
      "Epoch  3, CIFAR-10 Batch 5:  Loss: 1.4474 Validation Accuracy: 0.4970\n",
      "Epoch  4, CIFAR-10 Batch 1:  Loss: 1.4606 Validation Accuracy: 0.5058\n",
      "Epoch  4, CIFAR-10 Batch 2:  Loss: 1.3491 Validation Accuracy: 0.5120\n",
      "Epoch  4, CIFAR-10 Batch 3:  Loss: 1.2713 Validation Accuracy: 0.4952\n",
      "Epoch  4, CIFAR-10 Batch 4:  Loss: 1.2369 Validation Accuracy: 0.5154\n",
      "Epoch  4, CIFAR-10 Batch 5:  Loss: 1.3475 Validation Accuracy: 0.5228\n",
      "Epoch  5, CIFAR-10 Batch 1:  Loss: 1.3938 Validation Accuracy: 0.5274\n",
      "Epoch  5, CIFAR-10 Batch 2:  Loss: 1.2810 Validation Accuracy: 0.5298\n",
      "Epoch  5, CIFAR-10 Batch 3:  Loss: 1.2114 Validation Accuracy: 0.5190\n",
      "Epoch  5, CIFAR-10 Batch 4:  Loss: 1.1777 Validation Accuracy: 0.5352\n",
      "Epoch  5, CIFAR-10 Batch 5:  Loss: 1.2807 Validation Accuracy: 0.5436\n",
      "Epoch  6, CIFAR-10 Batch 1:  Loss: 1.3556 Validation Accuracy: 0.5338\n",
      "Epoch  6, CIFAR-10 Batch 2:  Loss: 1.2200 Validation Accuracy: 0.5484\n",
      "Epoch  6, CIFAR-10 Batch 3:  Loss: 1.1311 Validation Accuracy: 0.5398\n",
      "Epoch  6, CIFAR-10 Batch 4:  Loss: 1.1319 Validation Accuracy: 0.5462\n",
      "Epoch  6, CIFAR-10 Batch 5:  Loss: 1.2316 Validation Accuracy: 0.5506\n",
      "Epoch  7, CIFAR-10 Batch 1:  Loss: 1.3086 Validation Accuracy: 0.5470\n",
      "Epoch  7, CIFAR-10 Batch 2:  Loss: 1.2099 Validation Accuracy: 0.5404\n",
      "Epoch  7, CIFAR-10 Batch 3:  Loss: 1.1113 Validation Accuracy: 0.5576\n",
      "Epoch  7, CIFAR-10 Batch 4:  Loss: 1.1068 Validation Accuracy: 0.5582\n",
      "Epoch  7, CIFAR-10 Batch 5:  Loss: 1.2163 Validation Accuracy: 0.5580\n",
      "Epoch  8, CIFAR-10 Batch 1:  Loss: 1.3108 Validation Accuracy: 0.5482\n",
      "Epoch  8, CIFAR-10 Batch 2:  Loss: 1.1722 Validation Accuracy: 0.5468\n",
      "Epoch  8, CIFAR-10 Batch 3:  Loss: 1.0696 Validation Accuracy: 0.5670\n",
      "Epoch  8, CIFAR-10 Batch 4:  Loss: 1.0751 Validation Accuracy: 0.5674\n",
      "Epoch  8, CIFAR-10 Batch 5:  Loss: 1.1794 Validation Accuracy: 0.5644\n",
      "Epoch  9, CIFAR-10 Batch 1:  Loss: 1.2597 Validation Accuracy: 0.5586\n",
      "Epoch  9, CIFAR-10 Batch 2:  Loss: 1.1429 Validation Accuracy: 0.5510\n",
      "Epoch  9, CIFAR-10 Batch 3:  Loss: 1.0553 Validation Accuracy: 0.5666\n",
      "Epoch  9, CIFAR-10 Batch 4:  Loss: 1.0467 Validation Accuracy: 0.5722\n",
      "Epoch  9, CIFAR-10 Batch 5:  Loss: 1.1318 Validation Accuracy: 0.5738\n",
      "Epoch 10, CIFAR-10 Batch 1:  Loss: 1.2415 Validation Accuracy: 0.5682\n",
      "Epoch 10, CIFAR-10 Batch 2:  Loss: 1.1176 Validation Accuracy: 0.5602\n",
      "Epoch 10, CIFAR-10 Batch 3:  Loss: 1.0401 Validation Accuracy: 0.5734\n",
      "Epoch 10, CIFAR-10 Batch 4:  Loss: 1.0551 Validation Accuracy: 0.5730\n",
      "Epoch 10, CIFAR-10 Batch 5:  Loss: 1.1187 Validation Accuracy: 0.5756\n",
      "Epoch 11, CIFAR-10 Batch 1:  Loss: 1.2324 Validation Accuracy: 0.5682\n",
      "Epoch 11, CIFAR-10 Batch 2:  Loss: 1.0770 Validation Accuracy: 0.5790\n",
      "Epoch 11, CIFAR-10 Batch 3:  Loss: 1.0028 Validation Accuracy: 0.5832\n",
      "Epoch 11, CIFAR-10 Batch 4:  Loss: 1.0305 Validation Accuracy: 0.5760\n",
      "Epoch 11, CIFAR-10 Batch 5:  Loss: 1.0972 Validation Accuracy: 0.5766\n",
      "Epoch 12, CIFAR-10 Batch 1:  Loss: 1.1990 Validation Accuracy: 0.5744\n",
      "Epoch 12, CIFAR-10 Batch 2:  Loss: 1.0543 Validation Accuracy: 0.5770\n",
      "Epoch 12, CIFAR-10 Batch 3:  Loss: 0.9869 Validation Accuracy: 0.5860\n",
      "Epoch 12, CIFAR-10 Batch 4:  Loss: 1.0041 Validation Accuracy: 0.5858\n",
      "Epoch 12, CIFAR-10 Batch 5:  Loss: 1.0756 Validation Accuracy: 0.5866\n",
      "Epoch 13, CIFAR-10 Batch 1:  Loss: 1.1789 Validation Accuracy: 0.5778\n",
      "Epoch 13, CIFAR-10 Batch 2:  Loss: 1.0395 Validation Accuracy: 0.5820\n",
      "Epoch 13, CIFAR-10 Batch 3:  Loss: 0.9588 Validation Accuracy: 0.5954\n",
      "Epoch 13, CIFAR-10 Batch 4:  Loss: 0.9972 Validation Accuracy: 0.5896\n",
      "Epoch 13, CIFAR-10 Batch 5:  Loss: 1.0537 Validation Accuracy: 0.5908\n",
      "Epoch 14, CIFAR-10 Batch 1:  Loss: 1.1922 Validation Accuracy: 0.5662\n",
      "Epoch 14, CIFAR-10 Batch 2:  Loss: 1.0235 Validation Accuracy: 0.5788\n",
      "Epoch 14, CIFAR-10 Batch 3:  Loss: 0.9779 Validation Accuracy: 0.5856\n",
      "Epoch 14, CIFAR-10 Batch 4:  Loss: 0.9851 Validation Accuracy: 0.5898\n",
      "Epoch 14, CIFAR-10 Batch 5:  Loss: 1.0453 Validation Accuracy: 0.5912\n",
      "Epoch 15, CIFAR-10 Batch 1:  Loss: 1.1452 Validation Accuracy: 0.5848\n",
      "Epoch 15, CIFAR-10 Batch 2:  Loss: 1.0004 Validation Accuracy: 0.5902\n",
      "Epoch 15, CIFAR-10 Batch 3:  Loss: 0.9513 Validation Accuracy: 0.5924\n",
      "Epoch 15, CIFAR-10 Batch 4:  Loss: 0.9632 Validation Accuracy: 0.5988\n",
      "Epoch 15, CIFAR-10 Batch 5:  Loss: 1.0315 Validation Accuracy: 0.6000\n",
      "Epoch 16, CIFAR-10 Batch 1:  Loss: 1.1245 Validation Accuracy: 0.5906\n",
      "Epoch 16, CIFAR-10 Batch 2:  Loss: 0.9766 Validation Accuracy: 0.6064\n",
      "Epoch 16, CIFAR-10 Batch 3:  Loss: 0.9319 Validation Accuracy: 0.6012\n",
      "Epoch 16, CIFAR-10 Batch 4:  Loss: 0.9515 Validation Accuracy: 0.6028\n",
      "Epoch 16, CIFAR-10 Batch 5:  Loss: 1.0143 Validation Accuracy: 0.5908\n",
      "Epoch 17, CIFAR-10 Batch 1:  Loss: 1.0941 Validation Accuracy: 0.6006\n",
      "Epoch 17, CIFAR-10 Batch 2:  Loss: 0.9761 Validation Accuracy: 0.5978\n",
      "Epoch 17, CIFAR-10 Batch 3:  Loss: 0.9350 Validation Accuracy: 0.5958\n",
      "Epoch 17, CIFAR-10 Batch 4:  Loss: 0.9455 Validation Accuracy: 0.6004\n",
      "Epoch 17, CIFAR-10 Batch 5:  Loss: 1.0071 Validation Accuracy: 0.5986\n",
      "Epoch 18, CIFAR-10 Batch 1:  Loss: 1.0901 Validation Accuracy: 0.5944\n",
      "Epoch 18, CIFAR-10 Batch 2:  Loss: 0.9470 Validation Accuracy: 0.6066\n",
      "Epoch 18, CIFAR-10 Batch 3:  Loss: 0.8931 Validation Accuracy: 0.6044\n",
      "Epoch 18, CIFAR-10 Batch 4:  Loss: 0.9127 Validation Accuracy: 0.6056\n",
      "Epoch 18, CIFAR-10 Batch 5:  Loss: 0.9973 Validation Accuracy: 0.6046\n",
      "Epoch 19, CIFAR-10 Batch 1:  Loss: 1.0727 Validation Accuracy: 0.6042\n",
      "Epoch 19, CIFAR-10 Batch 2:  Loss: 0.9319 Validation Accuracy: 0.6034\n",
      "Epoch 19, CIFAR-10 Batch 3:  Loss: 0.8912 Validation Accuracy: 0.6024\n",
      "Epoch 19, CIFAR-10 Batch 4:  Loss: 0.9298 Validation Accuracy: 0.6004\n",
      "Epoch 19, CIFAR-10 Batch 5:  Loss: 0.9757 Validation Accuracy: 0.6098\n",
      "Epoch 20, CIFAR-10 Batch 1:  Loss: 1.0689 Validation Accuracy: 0.5992\n",
      "Epoch 20, CIFAR-10 Batch 2:  Loss: 0.9233 Validation Accuracy: 0.6052\n",
      "Epoch 20, CIFAR-10 Batch 3:  Loss: 0.8931 Validation Accuracy: 0.6066\n",
      "Epoch 20, CIFAR-10 Batch 4:  Loss: 0.9105 Validation Accuracy: 0.6080\n",
      "Epoch 20, CIFAR-10 Batch 5:  Loss: 0.9577 Validation Accuracy: 0.6024\n",
      "Epoch 21, CIFAR-10 Batch 1:  Loss: 1.0329 Validation Accuracy: 0.6080\n",
      "Epoch 21, CIFAR-10 Batch 2:  Loss: 0.9199 Validation Accuracy: 0.6138\n",
      "Epoch 21, CIFAR-10 Batch 3:  Loss: 0.8611 Validation Accuracy: 0.6128\n",
      "Epoch 21, CIFAR-10 Batch 4:  Loss: 0.9058 Validation Accuracy: 0.6124\n",
      "Epoch 21, CIFAR-10 Batch 5:  Loss: 0.9499 Validation Accuracy: 0.6136\n",
      "Epoch 22, CIFAR-10 Batch 1:  Loss: 1.0556 Validation Accuracy: 0.6008\n",
      "Epoch 22, CIFAR-10 Batch 2:  Loss: 0.9080 Validation Accuracy: 0.6126\n",
      "Epoch 22, CIFAR-10 Batch 3:  Loss: 0.8483 Validation Accuracy: 0.6102\n",
      "Epoch 22, CIFAR-10 Batch 4:  Loss: 0.9084 Validation Accuracy: 0.6116\n",
      "Epoch 22, CIFAR-10 Batch 5:  Loss: 0.9489 Validation Accuracy: 0.6036\n",
      "Epoch 23, CIFAR-10 Batch 1:  Loss: 1.0203 Validation Accuracy: 0.6082\n",
      "Epoch 23, CIFAR-10 Batch 2:  Loss: 0.9015 Validation Accuracy: 0.6194\n",
      "Epoch 23, CIFAR-10 Batch 3:  Loss: 0.8485 Validation Accuracy: 0.6144\n",
      "Epoch 23, CIFAR-10 Batch 4:  Loss: 0.8669 Validation Accuracy: 0.6182\n",
      "Epoch 23, CIFAR-10 Batch 5:  Loss: 0.9196 Validation Accuracy: 0.6172\n",
      "Epoch 24, CIFAR-10 Batch 1:  Loss: 1.0041 Validation Accuracy: 0.6206\n"
     ]
    },
    {
     "name": "stdout",
     "output_type": "stream",
     "text": [
      "Epoch 24, CIFAR-10 Batch 2:  Loss: 0.9008 Validation Accuracy: 0.6138\n",
      "Epoch 24, CIFAR-10 Batch 3:  Loss: 0.8316 Validation Accuracy: 0.6158\n",
      "Epoch 24, CIFAR-10 Batch 4:  Loss: 0.8775 Validation Accuracy: 0.6124\n",
      "Epoch 24, CIFAR-10 Batch 5:  Loss: 0.9287 Validation Accuracy: 0.6082\n",
      "Epoch 25, CIFAR-10 Batch 1:  Loss: 0.9975 Validation Accuracy: 0.6160\n",
      "Epoch 25, CIFAR-10 Batch 2:  Loss: 0.8977 Validation Accuracy: 0.6196\n",
      "Epoch 25, CIFAR-10 Batch 3:  Loss: 0.8201 Validation Accuracy: 0.6176\n",
      "Epoch 25, CIFAR-10 Batch 4:  Loss: 0.8641 Validation Accuracy: 0.6208\n",
      "Epoch 25, CIFAR-10 Batch 5:  Loss: 0.9130 Validation Accuracy: 0.6190\n",
      "Epoch 26, CIFAR-10 Batch 1:  Loss: 0.9901 Validation Accuracy: 0.6150\n",
      "Epoch 26, CIFAR-10 Batch 2:  Loss: 0.8669 Validation Accuracy: 0.6220\n",
      "Epoch 26, CIFAR-10 Batch 3:  Loss: 0.8157 Validation Accuracy: 0.6222\n",
      "Epoch 26, CIFAR-10 Batch 4:  Loss: 0.8501 Validation Accuracy: 0.6240\n",
      "Epoch 26, CIFAR-10 Batch 5:  Loss: 0.9082 Validation Accuracy: 0.6212\n",
      "Epoch 27, CIFAR-10 Batch 1:  Loss: 0.9758 Validation Accuracy: 0.6196\n",
      "Epoch 27, CIFAR-10 Batch 2:  Loss: 0.8535 Validation Accuracy: 0.6236\n",
      "Epoch 27, CIFAR-10 Batch 3:  Loss: 0.8101 Validation Accuracy: 0.6258\n",
      "Epoch 27, CIFAR-10 Batch 4:  Loss: 0.8490 Validation Accuracy: 0.6234\n",
      "Epoch 27, CIFAR-10 Batch 5:  Loss: 0.9036 Validation Accuracy: 0.6226\n",
      "Epoch 28, CIFAR-10 Batch 1:  Loss: 0.9734 Validation Accuracy: 0.6246\n",
      "Epoch 28, CIFAR-10 Batch 2:  Loss: 0.8553 Validation Accuracy: 0.6232\n",
      "Epoch 28, CIFAR-10 Batch 3:  Loss: 0.8076 Validation Accuracy: 0.6218\n",
      "Epoch 28, CIFAR-10 Batch 4:  Loss: 0.8389 Validation Accuracy: 0.6220\n",
      "Epoch 28, CIFAR-10 Batch 5:  Loss: 0.9045 Validation Accuracy: 0.6202\n",
      "Epoch 29, CIFAR-10 Batch 1:  Loss: 0.9739 Validation Accuracy: 0.6208\n",
      "Epoch 29, CIFAR-10 Batch 2:  Loss: 0.8598 Validation Accuracy: 0.6256\n",
      "Epoch 29, CIFAR-10 Batch 3:  Loss: 0.7894 Validation Accuracy: 0.6262\n",
      "Epoch 29, CIFAR-10 Batch 4:  Loss: 0.8499 Validation Accuracy: 0.6324\n",
      "Epoch 29, CIFAR-10 Batch 5:  Loss: 0.8818 Validation Accuracy: 0.6280\n",
      "Epoch 30, CIFAR-10 Batch 1:  Loss: 0.9565 Validation Accuracy: 0.6208\n",
      "Epoch 30, CIFAR-10 Batch 2:  Loss: 0.8367 Validation Accuracy: 0.6278\n",
      "Epoch 30, CIFAR-10 Batch 3:  Loss: 0.7855 Validation Accuracy: 0.6270\n",
      "Epoch 30, CIFAR-10 Batch 4:  Loss: 0.8218 Validation Accuracy: 0.6284\n",
      "Epoch 30, CIFAR-10 Batch 5:  Loss: 0.8612 Validation Accuracy: 0.6286\n",
      "Epoch 31, CIFAR-10 Batch 1:  Loss: 0.9344 Validation Accuracy: 0.6258\n",
      "Epoch 31, CIFAR-10 Batch 2:  Loss: 0.8236 Validation Accuracy: 0.6270\n",
      "Epoch 31, CIFAR-10 Batch 3:  Loss: 0.7709 Validation Accuracy: 0.6260\n",
      "Epoch 31, CIFAR-10 Batch 4:  Loss: 0.8211 Validation Accuracy: 0.6326\n",
      "Epoch 31, CIFAR-10 Batch 5:  Loss: 0.8588 Validation Accuracy: 0.6292\n",
      "Epoch 32, CIFAR-10 Batch 1:  Loss: 0.9271 Validation Accuracy: 0.6218\n",
      "Epoch 32, CIFAR-10 Batch 2:  Loss: 0.8332 Validation Accuracy: 0.6266\n",
      "Epoch 32, CIFAR-10 Batch 3:  Loss: 0.7945 Validation Accuracy: 0.6254\n",
      "Epoch 32, CIFAR-10 Batch 4:  Loss: 0.8149 Validation Accuracy: 0.6284\n",
      "Epoch 32, CIFAR-10 Batch 5:  Loss: 0.8587 Validation Accuracy: 0.6226\n",
      "Epoch 33, CIFAR-10 Batch 1:  Loss: 0.9093 Validation Accuracy: 0.6228\n",
      "Epoch 33, CIFAR-10 Batch 2:  Loss: 0.8127 Validation Accuracy: 0.6382\n",
      "Epoch 33, CIFAR-10 Batch 3:  Loss: 0.7792 Validation Accuracy: 0.6296\n",
      "Epoch 33, CIFAR-10 Batch 4:  Loss: 0.7982 Validation Accuracy: 0.6284\n",
      "Epoch 33, CIFAR-10 Batch 5:  Loss: 0.8452 Validation Accuracy: 0.6270\n",
      "Epoch 34, CIFAR-10 Batch 1:  Loss: 0.9057 Validation Accuracy: 0.6336\n",
      "Epoch 34, CIFAR-10 Batch 2:  Loss: 0.8134 Validation Accuracy: 0.6274\n",
      "Epoch 34, CIFAR-10 Batch 3:  Loss: 0.7642 Validation Accuracy: 0.6344\n",
      "Epoch 34, CIFAR-10 Batch 4:  Loss: 0.7950 Validation Accuracy: 0.6380\n",
      "Epoch 34, CIFAR-10 Batch 5:  Loss: 0.8388 Validation Accuracy: 0.6312\n",
      "Epoch 35, CIFAR-10 Batch 1:  Loss: 0.9046 Validation Accuracy: 0.6270\n",
      "Epoch 35, CIFAR-10 Batch 2:  Loss: 0.8020 Validation Accuracy: 0.6344\n",
      "Epoch 35, CIFAR-10 Batch 3:  Loss: 0.7621 Validation Accuracy: 0.6338\n",
      "Epoch 35, CIFAR-10 Batch 4:  Loss: 0.7899 Validation Accuracy: 0.6346\n",
      "Epoch 35, CIFAR-10 Batch 5:  Loss: 0.8320 Validation Accuracy: 0.6280\n",
      "Epoch 36, CIFAR-10 Batch 1:  Loss: 0.8899 Validation Accuracy: 0.6314\n",
      "Epoch 36, CIFAR-10 Batch 2:  Loss: 0.8012 Validation Accuracy: 0.6336\n",
      "Epoch 36, CIFAR-10 Batch 3:  Loss: 0.7399 Validation Accuracy: 0.6468\n",
      "Epoch 36, CIFAR-10 Batch 4:  Loss: 0.7729 Validation Accuracy: 0.6400\n",
      "Epoch 36, CIFAR-10 Batch 5:  Loss: 0.8339 Validation Accuracy: 0.6316\n",
      "Epoch 37, CIFAR-10 Batch 1:  Loss: 0.9081 Validation Accuracy: 0.6148\n",
      "Epoch 37, CIFAR-10 Batch 2:  Loss: 0.7947 Validation Accuracy: 0.6376\n",
      "Epoch 37, CIFAR-10 Batch 3:  Loss: 0.7449 Validation Accuracy: 0.6374\n",
      "Epoch 37, CIFAR-10 Batch 4:  Loss: 0.7606 Validation Accuracy: 0.6348\n",
      "Epoch 37, CIFAR-10 Batch 5:  Loss: 0.8342 Validation Accuracy: 0.6370\n",
      "Epoch 38, CIFAR-10 Batch 1:  Loss: 0.8832 Validation Accuracy: 0.6266\n",
      "Epoch 38, CIFAR-10 Batch 2:  Loss: 0.7921 Validation Accuracy: 0.6358\n",
      "Epoch 38, CIFAR-10 Batch 3:  Loss: 0.7229 Validation Accuracy: 0.6388\n",
      "Epoch 38, CIFAR-10 Batch 4:  Loss: 0.7627 Validation Accuracy: 0.6422\n",
      "Epoch 38, CIFAR-10 Batch 5:  Loss: 0.8083 Validation Accuracy: 0.6318\n",
      "Epoch 39, CIFAR-10 Batch 1:  Loss: 0.9248 Validation Accuracy: 0.6130\n",
      "Epoch 39, CIFAR-10 Batch 2:  Loss: 0.7711 Validation Accuracy: 0.6408\n",
      "Epoch 39, CIFAR-10 Batch 3:  Loss: 0.7222 Validation Accuracy: 0.6434\n",
      "Epoch 39, CIFAR-10 Batch 4:  Loss: 0.7608 Validation Accuracy: 0.6384\n",
      "Epoch 39, CIFAR-10 Batch 5:  Loss: 0.8143 Validation Accuracy: 0.6344\n",
      "Epoch 40, CIFAR-10 Batch 1:  Loss: 0.8595 Validation Accuracy: 0.6338\n",
      "Epoch 40, CIFAR-10 Batch 2:  Loss: 0.7718 Validation Accuracy: 0.6388\n",
      "Epoch 40, CIFAR-10 Batch 3:  Loss: 0.7205 Validation Accuracy: 0.6396\n",
      "Epoch 40, CIFAR-10 Batch 4:  Loss: 0.7534 Validation Accuracy: 0.6434\n",
      "Epoch 40, CIFAR-10 Batch 5:  Loss: 0.7969 Validation Accuracy: 0.6402\n",
      "Epoch 41, CIFAR-10 Batch 1:  Loss: 0.8813 Validation Accuracy: 0.6288\n",
      "Epoch 41, CIFAR-10 Batch 2:  Loss: 0.7517 Validation Accuracy: 0.6480\n",
      "Epoch 41, CIFAR-10 Batch 3:  Loss: 0.7130 Validation Accuracy: 0.6466\n",
      "Epoch 41, CIFAR-10 Batch 4:  Loss: 0.7602 Validation Accuracy: 0.6436\n",
      "Epoch 41, CIFAR-10 Batch 5:  Loss: 0.8091 Validation Accuracy: 0.6336\n",
      "Epoch 42, CIFAR-10 Batch 1:  Loss: 0.8413 Validation Accuracy: 0.6430\n",
      "Epoch 42, CIFAR-10 Batch 2:  Loss: 0.7698 Validation Accuracy: 0.6418\n",
      "Epoch 42, CIFAR-10 Batch 3:  Loss: 0.7164 Validation Accuracy: 0.6402\n",
      "Epoch 42, CIFAR-10 Batch 4:  Loss: 0.7322 Validation Accuracy: 0.6474\n",
      "Epoch 42, CIFAR-10 Batch 5:  Loss: 0.7891 Validation Accuracy: 0.6406\n",
      "Epoch 43, CIFAR-10 Batch 1:  Loss: 0.8591 Validation Accuracy: 0.6340\n",
      "Epoch 43, CIFAR-10 Batch 2:  Loss: 0.7723 Validation Accuracy: 0.6402\n",
      "Epoch 43, CIFAR-10 Batch 3:  Loss: 0.7061 Validation Accuracy: 0.6432\n",
      "Epoch 43, CIFAR-10 Batch 4:  Loss: 0.7327 Validation Accuracy: 0.6502\n",
      "Epoch 43, CIFAR-10 Batch 5:  Loss: 0.7709 Validation Accuracy: 0.6398\n",
      "Epoch 44, CIFAR-10 Batch 1:  Loss: 0.8366 Validation Accuracy: 0.6374\n",
      "Epoch 44, CIFAR-10 Batch 2:  Loss: 0.7591 Validation Accuracy: 0.6294\n",
      "Epoch 44, CIFAR-10 Batch 3:  Loss: 0.7271 Validation Accuracy: 0.6456\n",
      "Epoch 44, CIFAR-10 Batch 4:  Loss: 0.7493 Validation Accuracy: 0.6504\n",
      "Epoch 44, CIFAR-10 Batch 5:  Loss: 0.7957 Validation Accuracy: 0.6320\n",
      "Epoch 45, CIFAR-10 Batch 1:  Loss: 0.8558 Validation Accuracy: 0.6354\n",
      "Epoch 45, CIFAR-10 Batch 2:  Loss: 0.7466 Validation Accuracy: 0.6418\n",
      "Epoch 45, CIFAR-10 Batch 3:  Loss: 0.6906 Validation Accuracy: 0.6470\n",
      "Epoch 45, CIFAR-10 Batch 4:  Loss: 0.7308 Validation Accuracy: 0.6486\n",
      "Epoch 45, CIFAR-10 Batch 5:  Loss: 0.7595 Validation Accuracy: 0.6468\n",
      "Epoch 46, CIFAR-10 Batch 1:  Loss: 0.8413 Validation Accuracy: 0.6392\n",
      "Epoch 46, CIFAR-10 Batch 2:  Loss: 0.7377 Validation Accuracy: 0.6480\n",
      "Epoch 46, CIFAR-10 Batch 3:  Loss: 0.6734 Validation Accuracy: 0.6502\n",
      "Epoch 46, CIFAR-10 Batch 4:  Loss: 0.7338 Validation Accuracy: 0.6516\n",
      "Epoch 46, CIFAR-10 Batch 5:  Loss: 0.7858 Validation Accuracy: 0.6374\n",
      "Epoch 47, CIFAR-10 Batch 1:  Loss: 0.8312 Validation Accuracy: 0.6470\n",
      "Epoch 47, CIFAR-10 Batch 2:  Loss: 0.7492 Validation Accuracy: 0.6446\n",
      "Epoch 47, CIFAR-10 Batch 3:  Loss: 0.6905 Validation Accuracy: 0.6472\n"
     ]
    },
    {
     "name": "stdout",
     "output_type": "stream",
     "text": [
      "Epoch 47, CIFAR-10 Batch 4:  Loss: 0.7187 Validation Accuracy: 0.6530\n",
      "Epoch 47, CIFAR-10 Batch 5:  Loss: 0.7757 Validation Accuracy: 0.6442\n",
      "Epoch 48, CIFAR-10 Batch 1:  Loss: 0.8280 Validation Accuracy: 0.6352\n",
      "Epoch 48, CIFAR-10 Batch 2:  Loss: 0.7184 Validation Accuracy: 0.6482\n",
      "Epoch 48, CIFAR-10 Batch 3:  Loss: 0.6968 Validation Accuracy: 0.6472\n",
      "Epoch 48, CIFAR-10 Batch 4:  Loss: 0.7273 Validation Accuracy: 0.6522\n",
      "Epoch 48, CIFAR-10 Batch 5:  Loss: 0.7820 Validation Accuracy: 0.6412\n",
      "Epoch 49, CIFAR-10 Batch 1:  Loss: 0.8061 Validation Accuracy: 0.6488\n",
      "Epoch 49, CIFAR-10 Batch 2:  Loss: 0.7118 Validation Accuracy: 0.6486\n",
      "Epoch 49, CIFAR-10 Batch 3:  Loss: 0.6829 Validation Accuracy: 0.6512\n",
      "Epoch 49, CIFAR-10 Batch 4:  Loss: 0.7187 Validation Accuracy: 0.6534\n",
      "Epoch 49, CIFAR-10 Batch 5:  Loss: 0.7801 Validation Accuracy: 0.6470\n",
      "Epoch 50, CIFAR-10 Batch 1:  Loss: 0.8311 Validation Accuracy: 0.6378\n",
      "Epoch 50, CIFAR-10 Batch 2:  Loss: 0.7154 Validation Accuracy: 0.6488\n",
      "Epoch 50, CIFAR-10 Batch 3:  Loss: 0.6580 Validation Accuracy: 0.6442\n",
      "Epoch 50, CIFAR-10 Batch 4:  Loss: 0.7162 Validation Accuracy: 0.6500\n",
      "Epoch 50, CIFAR-10 Batch 5:  Loss: 0.7365 Validation Accuracy: 0.6482\n"
     ]
    }
   ],
   "source": [
    "\"\"\"\n",
    "DON'T MODIFY ANYTHING IN THIS CELL\n",
    "\"\"\"\n",
    "save_model_path = './image_classification'\n",
    "\n",
    "print('Training...')\n",
    "with tf.Session() as sess:\n",
    "    # Initializing the variables\n",
    "    sess.run(tf.global_variables_initializer())\n",
    "    \n",
    "    # Training cycle\n",
    "    for epoch in range(epochs):\n",
    "        # Loop over all batches\n",
    "        n_batches = 5\n",
    "        for batch_i in range(1, n_batches + 1):\n",
    "            for batch_features, batch_labels in helper.load_preprocess_training_batch(batch_i, batch_size):\n",
    "                train_neural_network(sess, optimizer, keep_probability, batch_features, batch_labels)\n",
    "            print('Epoch {:>2}, CIFAR-10 Batch {}:  '.format(epoch + 1, batch_i), end='')\n",
    "            print_stats(sess, batch_features, batch_labels, cost, accuracy)\n",
    "            \n",
    "    # Save Model\n",
    "    saver = tf.train.Saver()\n",
    "    save_path = saver.save(sess, save_model_path)"
   ]
  },
  {
   "cell_type": "markdown",
   "metadata": {},
   "source": [
    "# Checkpoint\n",
    "The model has been saved to disk.\n",
    "## Test Model\n",
    "Test your model against the test dataset.  This will be your final accuracy. You should have an accuracy greater than 50%. If you don't, keep tweaking the model architecture and parameters."
   ]
  },
  {
   "cell_type": "code",
   "execution_count": 18,
   "metadata": {},
   "outputs": [
    {
     "name": "stdout",
     "output_type": "stream",
     "text": [
      "INFO:tensorflow:Restoring parameters from ./image_classification\n",
      "Testing Accuracy: 0.6475930601358414\n",
      "\n"
     ]
    },
    {
     "data": {
      "image/png": "[encoded data removed]",
      "text/plain": [
       "<matplotlib.figure.Figure at 0x17a82fdd048>"
      ]
     },
     "metadata": {
      "image/png": {
       "height": 319,
       "width": 355
      }
     },
     "output_type": "display_data"
    }
   ],
   "source": [
    "\"\"\"\n",
    "DON'T MODIFY ANYTHING IN THIS CELL\n",
    "\"\"\"\n",
    "%matplotlib inline\n",
    "%config InlineBackend.figure_format = 'retina'\n",
    "\n",
    "import tensorflow as tf\n",
    "import pickle\n",
    "import helper\n",
    "import random\n",
    "\n",
    "# Set batch size if not already set\n",
    "try:\n",
    "    if batch_size:\n",
    "        pass\n",
    "except NameError:\n",
    "    batch_size = 64\n",
    "\n",
    "save_model_path = './image_classification'\n",
    "n_samples = 4\n",
    "top_n_predictions = 3\n",
    "\n",
    "def test_model():\n",
    "    \"\"\"\n",
    "    Test the saved model against the test dataset\n",
    "    \"\"\"\n",
    "\n",
    "    test_features, test_labels = pickle.load(open('preprocess_training.p', mode='rb'))\n",
    "    loaded_graph = tf.Graph()\n",
    "\n",
    "    with tf.Session(graph=loaded_graph) as sess:\n",
    "        # Load model\n",
    "        loader = tf.train.import_meta_graph(save_model_path + '.meta')\n",
    "        loader.restore(sess, save_model_path)\n",
    "\n",
    "        # Get Tensors from loaded model\n",
    "        loaded_x = loaded_graph.get_tensor_by_name('x:0')\n",
    "        loaded_y = loaded_graph.get_tensor_by_name('y:0')\n",
    "        loaded_keep_prob = loaded_graph.get_tensor_by_name('keep_prob:0')\n",
    "        loaded_logits = loaded_graph.get_tensor_by_name('logits:0')\n",
    "        loaded_acc = loaded_graph.get_tensor_by_name('accuracy:0')\n",
    "        \n",
    "        # Get accuracy in batches for memory limitations\n",
    "        test_batch_acc_total = 0\n",
    "        test_batch_count = 0\n",
    "        \n",
    "        for train_feature_batch, train_label_batch in helper.batch_features_labels(test_features, test_labels, batch_size):\n",
    "            test_batch_acc_total += sess.run(\n",
    "                loaded_acc,\n",
    "                feed_dict={loaded_x: train_feature_batch, loaded_y: train_label_batch, loaded_keep_prob: 1.0})\n",
    "            test_batch_count += 1\n",
    "\n",
    "        print('Testing Accuracy: {}\\n'.format(test_batch_acc_total/test_batch_count))\n",
    "\n",
    "        # Print Random Samples\n",
    "        random_test_features, random_test_labels = tuple(zip(*random.sample(list(zip(test_features, test_labels)), n_samples)))\n",
    "        random_test_predictions = sess.run(\n",
    "            tf.nn.top_k(tf.nn.softmax(loaded_logits), top_n_predictions),\n",
    "            feed_dict={loaded_x: random_test_features, loaded_y: random_test_labels, loaded_keep_prob: 1.0})\n",
    "        helper.display_image_predictions(random_test_features, random_test_labels, random_test_predictions)\n",
    "\n",
    "\n",
    "test_model()"
   ]
  },
  {
   "cell_type": "markdown",
   "metadata": {},
   "source": [
    "## Why 50-80% Accuracy?\n",
    "You might be wondering why you can't get an accuracy any higher. First things first, 50% isn't bad for a simple CNN.  Pure guessing would get you 10% accuracy. That's because there are many more techniques that can be applied to your model and we recemmond that once you are done with this project, you explore!\n",
    "\n",
    "## Submitting This Project\n",
    "When submitting this project, make sure to run all the cells before saving the notebook.  Save the notebook file as \"image_classification.ipynb\" and save it as a HTML file under \"File\" -> \"Download as\".  Include the \"helper.py\" and \"problem_unittests.py\" files in your submission."
   ]
  }
 ],
 "metadata": {
  "kernelspec": {
   "display_name": "Python 3",
   "language": "python",
   "name": "python3"
  },
  "language_info": {
   "codemirror_mode": {
    "name": "ipython",
    "version": 3
   },
   "file_extension": ".py",
   "mimetype": "text/x-python",
   "name": "python",
   "nbconvert_exporter": "python",
   "pygments_lexer": "ipython3",
   "version": "3.6.3"
  }
 },
 "nbformat": 4,
 "nbformat_minor": 1
}
